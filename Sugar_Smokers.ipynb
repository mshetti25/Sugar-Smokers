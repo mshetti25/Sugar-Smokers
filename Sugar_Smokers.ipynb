{
 "cells": [
  {
   "cell_type": "code",
   "execution_count": 1,
   "metadata": {},
   "outputs": [],
   "source": [
    "import matplotlib.pyplot as plt\n",
    "import pandas as pd\n",
    "import numpy as np\n",
    "import requests\n",
    "import time\n",
    "from scipy.stats import linregress\n",
    "from pprint import pprint"
   ]
  },
  {
   "cell_type": "code",
   "execution_count": null,
   "metadata": {},
   "outputs": [],
   "source": [
    "raw_1997_a_m = pd.read_excel('Resources/State_A_M_1997.xlsx')\n",
    "raw_1997_n_z = pd.read_excel('Resources/State_N_Z_1997_data.xlsx')\n",
    "raw_2007_a_m = pd.read_excel('Resources/State_A_M_2007.xlsx')\n",
    "raw_2007_n_z = pd.read_excel('Resources/State_N_Z_2007.xlsx')\n",
    "raw_2017_a_m = pd.read_excel('Resources/YRSS_2017__State_A_M.xlsx')\n",
    "raw_2017_n_z = pd.read_excel('Resources/YRSS_2017_State_N_Z.xlsx')"
   ]
  },
  {
   "cell_type": "code",
   "execution_count": null,
   "metadata": {},
   "outputs": [],
   "source": [
    "raw_1997_a_m.describe()\n",
    "raw_1997_n_z.describe()\n",
    "raw_2007_a_m.describe()\n",
    "raw_2007_n_z.describe()\n",
    "raw_2017_a_m.describe()\n",
    "raw_2017_n_z.describe()"
   ]
  },
  {
   "cell_type": "code",
   "execution_count": null,
   "metadata": {},
   "outputs": [],
   "source": [
    "raw_1997_a_m.fillna(0)\n",
    "raw_1997_n_z.fillna(0)\n",
    "raw_2007_a_m.fillna(0)\n",
    "raw_2007_n_z.fillna(0)\n",
    "raw_2017_a_m.fillna(0)\n",
    "raw_2017_n_z.fillna(0)"
   ]
  },
  {
   "cell_type": "code",
   "execution_count": null,
   "metadata": {},
   "outputs": [],
   "source": [
    "Final_2017_df = raw_2017_a_m.append(raw_2017_n_z, ignore_index = True) \n",
    "len(Final_2017_df.columns)"
   ]
  },
  {
   "cell_type": "code",
   "execution_count": null,
   "metadata": {},
   "outputs": [],
   "source": [
    "Final_2007_df = raw_2007_a_m.append(raw_2007_n_z, ignore_index = True) \n",
    "len(Final_2007_df.columns)"
   ]
  },
  {
   "cell_type": "code",
   "execution_count": null,
   "metadata": {},
   "outputs": [],
   "source": [
    "Final_1997_df = raw_1997_a_m.append(raw_1997_n_z, ignore_index = True) \n",
    "len(Final_1997_df.columns)"
   ]
  },
  {
   "cell_type": "code",
   "execution_count": null,
   "metadata": {},
   "outputs": [],
   "source": [
    "Final_2017_df.fillna(0)\n",
    "Final_2007_df.fillna(0)\n",
    "Final_1997_df.fillna(0)"
   ]
  },
  {
   "cell_type": "code",
   "execution_count": null,
   "metadata": {},
   "outputs": [],
   "source": [
    "Data_2017 = Final_2017_df[[\"sitecode\", \"year\", \"weight\", \"stratum\", \"age\", \"sex\", \"grade\",\n",
    "                          \"race4\", \"race7\",\"q30\", \"q31\",\"q32\", \"q33\", \"q37\", \"q38\", \"q39\",\n",
    "                           \"q34\", \"q34\", \"q35\", \"q68\", \"q69\",\"q70\", \"q79\", \"q80\", \"q83\"]]"
   ]
  },
  {
   "cell_type": "code",
   "execution_count": null,
   "metadata": {},
   "outputs": [],
   "source": [
    "Data_2017"
   ]
  },
  {
   "cell_type": "code",
   "execution_count": null,
   "metadata": {},
   "outputs": [],
   "source": [
    "Data_2007 = Final_2007_df[[\"sitecode\", \"year\", \"weight\", \"stratum\", \"age\", \"sex\", \"grade\",\n",
    "                          \"race4\", \"race7\", \"q28\", \"q29\",\"q30\",\"q31\",\"q32\",\"q33\", \"q35\",\n",
    "                          \"q36\", \"q37\", \"q38\", \"q39\", \"q40\",\"q41\",\"q72\",\"q78\",\"q79\"]]\n",
    "Data_2007"
   ]
  }
 ],
 "metadata": {
  "kernelspec": {
   "display_name": "Python 3",
   "language": "python",
   "name": "python3"
  },
  "language_info": {
   "codemirror_mode": {
    "name": "ipython",
    "version": 3
   },
   "file_extension": ".py",
   "mimetype": "text/x-python",
   "name": "python",
   "nbconvert_exporter": "python",
   "pygments_lexer": "ipython3",
   "version": "3.7.6"
  }
 },
 "nbformat": 4,
 "nbformat_minor": 4
}
